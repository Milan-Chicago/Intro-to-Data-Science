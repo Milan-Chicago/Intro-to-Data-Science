{
 "cells": [
  {
   "cell_type": "markdown",
   "metadata": {},
   "source": [
    "# Homework 4: The Ising Model and the Metropolis–Hastings algorithm\n",
    "\n",
    "The Ising Model has been introduced in the 20's by W. Lenz et E. Ising to explain the apparition of a spontaneous magnetization when we cool down a ferromagnetic material below a temperature called the Curie temperature. Here, we are supposing that we are placing quantum spins on a 2d square lattice that can take $\\pm1$ value.\n",
    "\n",
    " <img src=\"images/ising_model.svg\",width=300>\n",
    "\n",
    "In a ferromagnetic medium, the spins tend to align therefore the interaction energy between 2 neighboring spins $i$ and $j$ is \n",
    "\n",
    "\\begin{equation}\n",
    "-Js_is_j\n",
    "\\end{equation}\n",
    "\n",
    "where $J$ is a positive constant. The energy is minimized when the 2 spins have the same sign. If there is a magnetic field $h$, the interaction with the spin $i$ is\n",
    "\n",
    "\\begin{equation}\n",
    "-hs_i.\n",
    "\\end{equation}\n",
    "\n",
    "We call a microstate, values taken by the spins at a specific time. A macrostate is defined by macroscopic variables such as the temperature $T$ or the magnetization $M=\\sum_i s_i$. The energy for a microstate is written as:\n",
    "\n",
    "\\begin{equation}\n",
    "E = -J\\sum_{(i,j)}s_is_j-h\\sum_i s_i\n",
    "\\end{equation}\n",
    " \n",
    "where $\\sum_{(i,j)}$ is a sum taken on all the pairs of neighbors.\n",
    "\n",
    "E. Ising has completely solved in 1925 the problem in 1 dimension (a linear chain of spin). The principal result is that this model does not yield any phase transition. In 1944, L. Onsager analytically solved the model in 2 dimensions on a square lattice in zero field. He proves the existence of a phase transition characterized by a critical temperature such that:\n",
    "\n",
    "\\begin{equation}\n",
    "\\sinh\\frac{2J}{k_BT_c}=1\n",
    "\\end{equation}\n",
    "\n",
    "## 1 Building the spin system\n",
    "\n",
    "### 1.1 The initial square lattice of spins\n",
    "\n",
    "We are going to write a function that initializes all the spins pointing up ($s_i=1$), identifies the position of each spin and marks the positions of their neighbors. First, We are going to establish the different steps related to this function. \n",
    "\n",
    "> Use the numpy function [`numpy.ones`](https://docs.scipy.org/doc/numpy/reference/generated/numpy.ones.html) to build a $N\\times N$ matrix of ones and cast it into a pandas data frame. This pandas data frame should have as index and column names, integer values between 0 and $N-1$. This matrix represents the square lattice and $N^2$ is the total number of spins. Let's choose $N=50$ for this particular example."
   ]
  },
  {
   "cell_type": "code",
   "execution_count": null,
   "metadata": {
    "collapsed": true,
    "scrolled": true
   },
   "outputs": [],
   "source": [
    "import pandas as pd\n",
    "import numpy as np\n",
    "\n",
    "N = 50\n",
    "\n",
    "## TODO: create a pandas data frame with N columns and rows filled with 1s\n",
    "\n",
    "initial_spins_df"
   ]
  },
  {
   "cell_type": "markdown",
   "metadata": {},
   "source": [
    "### 1.2 The long format of the data\n",
    "\n",
    "Because it is difficult to directly manipulate matrices in pandas are going to melt the matrix into a new dataframe such that one column will represent the x-position, one column will represent the y-position and the last column will represent the value of the spin\n",
    "\n",
    ">- We need to reset the index of `initial_spins_df` to then melt it into a long format\n",
    "- change the column names to \"X\", \"Y\" and \"spin_value\".\n",
    "- reset the current index. This step is designed to keep a column that captures an unique index for each spin\n",
    "- set a multiindex to be \"X\", \"Y\"."
   ]
  },
  {
   "cell_type": "code",
   "execution_count": null,
   "metadata": {
    "collapsed": true,
    "scrolled": true
   },
   "outputs": [],
   "source": [
    "# TODO: melt the initial_spins dataframe into a long dataframe\n",
    "\n",
    "# TODO: Set the column names to \"X\", \"Y\" and \"spin_value\"\n",
    "\n",
    "# TODO: reset the current index\n",
    "\n",
    "# TODO: set the multiindex to be \"X\", \"Y\"\n",
    "\n",
    "initial_spins_melted"
   ]
  },
  {
   "cell_type": "markdown",
   "metadata": {},
   "source": [
    "### 1.3 The neighboring spins\n",
    "\n",
    "We need now to establish the neighbors for each of the spins. In this particular case, we are going to consider a spin neighbor to be a spin that is directly or above, or below, or at the left or at the right of the spin we are considering \n",
    "\n",
    "<img src=\"images/ising_neighbors.jpg\",width=400>\n",
    "\n",
    "> Create 4 columns \"up_spin\", \"down_spin\", \"left_spin\" and \"right_spin\" that capture the value of the \"index\" column for the neighboring spins. For example, the index value of the spin at $X=0$ and $Y=0$ is 0 and the index value for its right neighbor ($X=1$ and $Y=0$) is 1. I suggest to use the `groupby` function on `level=0` or `level=1` and to apply the `shift` function with 1 or -1 as argument."
   ]
  },
  {
   "cell_type": "code",
   "execution_count": null,
   "metadata": {
    "collapsed": true,
    "scrolled": true
   },
   "outputs": [],
   "source": [
    "# TODO: create the columns \"up_spin\", \"down_spin\", \"left_spin\" and \"right_spin\" with the index values\n",
    "# of the neighboring spins\n",
    "\n",
    "initial_spins_melted"
   ]
  },
  {
   "cell_type": "markdown",
   "metadata": {},
   "source": [
    "### 1.4 Periodic boundary conditions\n",
    "\n",
    "A thermodynamic system has of the order of $\\sim10^{23}$ elements (spins here). To minimize the boundary effect of the small spin system we are constructing, we are going to assume that a spin at the extreme left of the lattice is connected on the left to a spin at the extreme right of the lattice with similar boundary conditions for the top and bottom spins of the lattice. This effectively warps the lattice onto a torus geometry\n",
    "\n",
    "<img src=\"images/boundaries.png\",width=400>\n",
    "\n",
    "> - You may have noticed that in creating the neighboring spins columns, few elements of those columns remained `Nan`. Fill those missing values with index values of the spins such that the periodic boundary conditions are satisfied. For example, the spin at $X=0$ and $Y=0$ is on the top boundary and on the left boundary. We would find its up neighbor at $X=0$ and $Y=49$ and its left neighbor at $X=49$ and $Y=0$. This problem becomes easy by using the multiindex. \n",
    "- Ensure that the data type of \"up_spin\", \"down_spin\", \"left_spin\" and \"right_spin\" is integer by using the `astype` function.\n",
    "- Reset the index and set as index the column \"index\".\n",
    "\n",
    "The resulting data frame should look like\n",
    "\n",
    "<img src=\"images/resulting_df.png\",width=600>"
   ]
  },
  {
   "cell_type": "code",
   "execution_count": null,
   "metadata": {
    "collapsed": true,
    "scrolled": true
   },
   "outputs": [],
   "source": [
    "# TODO: replace the missing values in \"up_spin\", \"down_spin\", \"left_spin\" and \"right_spin\" \n",
    "# such that the periodic boundary counditions are satisfied\n",
    "\n",
    "initial_spins_melted"
   ]
  },
  {
   "cell_type": "markdown",
   "metadata": {},
   "source": [
    "### 1.5 To summarize\n",
    "\n",
    "Let's summarize those steps into a function.\n",
    "\n",
    "> Write a function that take as argument an integer $N$ and returns an initialized spin lattice into a long format with the neighboring spins and the period boundary conditions. It should returns exactly what was shown in the last cell.  "
   ]
  },
  {
   "cell_type": "code",
   "execution_count": null,
   "metadata": {
    "collapsed": true,
    "scrolled": true
   },
   "outputs": [],
   "source": [
    "## TODO: rewrite the past steps into the following function\n",
    "\n",
    "def initialize_spin_lattice(N=50):\n",
    "    ## YOUR CODE\n",
    "    raise NotImplementedError\n",
    "    \n",
    "    \n",
    "initialize_spin_lattice(N=50)"
   ]
  },
  {
   "cell_type": "markdown",
   "metadata": {},
   "source": [
    "## 2 The Monte Carlo / Metropolis Simulation\n",
    "\n",
    "In equilibrium statitical physics, the probability of a microstate $i$ (a specific spin configuration) is given by the Maxwell-Boltzmann distribution\n",
    "\n",
    "\\begin{equation}\n",
    "p_i=\\frac{e^{-\\frac{E_i}{k_bT}}}{\\sum_{i\\in\\mathcal{S}}e^{-\\frac{E_i}{k_bT}}}\n",
    "\\end{equation}\n",
    "\n",
    "where $E_i$ is the microstate energy, $k_b$ is the Boltzmann constant, $T$ is the temperature and $\\mathcal{S}$ is the set of all possible microstates. $\\sum_{i\\in\\mathcal{S}}e^{-\\frac{E_i}{k_bT}}$ is simply a normalization constant. The expected value of an observable $A$ can be written as\n",
    "\n",
    "\\begin{equation}\n",
    "\\langle A\\rangle=\\frac{\\sum_{i\\in\\mathcal{S}}A_ie^{-\\frac{E_i}{k_bT}}}{\\sum_{i\\in\\mathcal{S}}e^{-\\frac{E_i}{k_bT}}}\n",
    "\\end{equation}\n",
    "\n",
    "So given a system that has a discrete number of states, we could, using a computer, calculate A for each state and weight these values by their Boltzman factors to find the average $A$. This might be feasible for a system with a small number of states, but if we have a $20\\times20$ spin lattice interacting via the Ising model, there are $2^{400}$ states, so we cannot possibly examine all of them.\n",
    "\n",
    "Instead of sampling (measuring parameters like $A$ for) a lot of states and then weighting them by their Boltzman factors, it makes more sense to choose states based on their Boltzman factors and to then weight them equally. This is known as the Metropolis algorithm (a particular Monte Carlo method), which is an importance sampling technique. One pass through the algorithm is described here:\n",
    "\n",
    "- A spin flip is made by randomly choosing one spin.\n",
    "- The energy difference of the resulting state relative to the previous state, $\\Delta E$, is calculated.\n",
    "- If $\\Delta E\\leq 0$, the new state is energetically favorable and thus accepted. Otherwise, a random number $0\\leq\\eta\\leq 1$ is generated, and the new state is only accepted if $\\exp(-\\Delta E/k_bT) > \\eta$.\n",
    "\n",
    "### 2.1 Computing $\\Delta E$\n",
    "\n",
    "Let's consider a spin $s_i$ having a value $\\pm1$. The energy of a microstate is \n",
    "\n",
    "\\begin{equation}\n",
    "E = -J\\sum_{(i,j)}s_is_j-h\\sum_i s_i\n",
    "\\end{equation}\n",
    "\n",
    ">What is the change in energy $\\Delta E$ of a microstate if we flip that spin ($s_i \\leftarrow s_i\\times(-1)$)? "
   ]
  },
  {
   "cell_type": "markdown",
   "metadata": {},
   "source": [
    "\\#\\# TODO: compute analytically $\\Delta E$ as a function of $J$, $s_i$, $h$ and $\\sum_{j}s_j$ (the spin sum over the neighbors)"
   ]
  },
  {
   "cell_type": "markdown",
   "metadata": {},
   "source": [
    "### 2.2 One Monte Carlo step\n",
    "\n",
    "We now need to write the code for one Monte Carlo step (one spin flip). Actually because we are using a Pandas data frame, we can select many spins at once, flip them and test if we want to keep the new configurations or not. Because we just showed that the computation of  $\\Delta E$ is local to a specific spin, we can only do this if we select spins that are not neighbors from each others. \n",
    "\n",
    "From this point forward, we are going to choose $k_b=J=1$ for simplicity. Here a pseudo-code to help you understand what need to be done for the following function.\n",
    "\n",
    "```\n",
    "def one_step(arguments -> the temperature T, the magnetic field h)\n",
    "\n",
    "    sample_spins <- select few non neighboring spins at random\n",
    "\n",
    "    for each spin in sample_spins:\n",
    "\n",
    "        compute delta_e using h, the spin and its neighbors' values\n",
    "\n",
    "        if delta_e <= 0 then:\n",
    "            flip the spin\n",
    "        else:\n",
    "            flip the spin if exp(- delta_e / T) > x where x a uniform random number between 0 and 1  \n",
    "```\n",
    "    \n",
    "Obviously all of this can be written with vectorize code (if not your code if going to be very slow!).\n",
    "\n",
    "> Write the `one_step` function. Note that it does not return anything, it just decides to flip a bunch of spins of not."
   ]
  },
  {
   "cell_type": "code",
   "execution_count": null,
   "metadata": {
    "collapsed": true
   },
   "outputs": [],
   "source": [
    "## TODO: write the function one_step \n",
    "\n",
    "def one_step(df,       # the dataframe to update\n",
    "             T,        # the temperature \n",
    "             h,        # the magnetic field\n",
    "             frac,     # the fraction of spins from the lattice to choose\n",
    "             parityX,  # parameter to avoid to choose neighboring spins in the same batch\n",
    "             parityY   # parameter to avoid to choose neighboring spins in the same batch\n",
    "            ):\n",
    "    \n",
    "    # This part of the code is to ensure that spins chosen cannot be neighbors\n",
    "    sample_spins = df.loc[(df[\"X\"] % 2 == parityX) & (df[\"Y\"] % 2 == parityY)]\n",
    "    # we sample the resulting data frame\n",
    "    sample_spins = sample_spins.sample(frac=frac)  \n",
    "    \n",
    "    ## TODO: compute delta_e for all the spins in sample_spins. delta_e is a vector\n",
    "    \n",
    "    ## TODO: Choose to flip the spins or not based on delta_e, T, and uniform random numbers\n",
    "               \n",
    "    ## No need to return anything            "
   ]
  },
  {
   "cell_type": "markdown",
   "metadata": {},
   "source": [
    "### 2.3 Thermodynamic equilibrium\n",
    "\n",
    "\n",
    "We need many Monte Carlo steps to reach thermodynamic (or statistical) equilibrium. This mean we need many steps to be sure that each spin was able to \"feel\" the temperature and magnetic field. I will not ask to write this part. I found the following values to be sufficient to reach equilibrium. I invite you of course to validate those values and test that the thermodynamic quantities have indeed reached an equilibrium. Here, as an example, I show the magnetization reaching thermodynamic equilibrium for a $50\\times50$ spin lattice \n",
    "\n",
    "<img src=\"images/equilibrium.png\",width=600>"
   ]
  },
  {
   "cell_type": "code",
   "execution_count": null,
   "metadata": {
    "collapsed": true
   },
   "outputs": [],
   "source": [
    "## The function to reach thermodynamic equilibrium for each value of T and h\n",
    "\n",
    "def get_to_equilibrium(df,# the dataframe to update\n",
    "                       T,# the temperature \n",
    "                       h,# the magnetic field\n",
    "                       frac=0.8,# the fraction of spins from the lattice to choose\n",
    "                       iteration=500 # the number of iteration of the one_step function\n",
    "                      ):\n",
    "    for i in range(iteration):\n",
    "        \n",
    "        # we choose at random 0 or 1 to select a sublattice with no neighboring spins\n",
    "        parity = np.random.choice([0,1], size=2)\n",
    "        \n",
    "        # we apply the one_step function\n",
    "        one_step(df, T, h, frac, parity[0], parity[1]) "
   ]
  },
  {
   "cell_type": "markdown",
   "metadata": {},
   "source": [
    "## 3  The Ising Model physics\n",
    "\n",
    "### 3.1 The $h=0$ case \n",
    "\n",
    "Now that we have established how to initialize the spin lattice and that we can get those spins to reach a thermodynamic equilibrium for any temperature and magnetic field, we can start some experiments. We have going to vary the temperature and keep $h=0$ to capture the different thermodynamic quantities.\n",
    "\n",
    "> - Choose different values of $T$ between 0 and 5 (I advise a finner grid between 1.75 and 2.5)\n",
    "- Initialize a spin lattice into the `spin_lattice` dataframe. You can try different values of $N$. The greater $N$ is the better are going to be the results but there are going to take a greater computational time. $N=20$ is a good start to check that everything works correctly.\n",
    "- For each temperature (for-loop is ok here), capture the state of the lattice into a dataframe `spin_evolution`. I advise to build this data frame such that it has as columns name the temperatures and as index, the index of the `spin_lattice`.\n",
    "\n",
    "I personally obtain the following data frame for `spin_evolution`\n",
    "\n",
    "<img src=\"images/spin_evolution.png\",width=800>\n",
    "\n",
    "Note that here, we are only capturing one microstate per temperature. To be true to statistical mechanics, we should in principle sample many times the systems for each temperature to make accurate measurements of the different thermodynamic quantities. For simplicity, I only ask for one sample but know that the quantities you will measure will then be subject to statistical fluctuation. You can try to reproduce the experiment many times to perform accurate averaged measurements."
   ]
  },
  {
   "cell_type": "code",
   "execution_count": null,
   "metadata": {
    "collapsed": true,
    "scrolled": true
   },
   "outputs": [],
   "source": [
    "## TODO: create some temperatures. The following is just an example to refine!!\n",
    "# temperatures = np.arange(0, 5.5, 0.5).round(decimals=4) \n",
    "\n",
    "## TODO: initialize the spin lattice\n",
    "spin_lattice = ## YOUR CODE\n",
    "spin_evolution = pd.DataFrame(index=spin_lattice.index, columns=temperatures)\n",
    "\n",
    "## TODO: loop through the temperatures to capture the state of the spins system"
   ]
  },
  {
   "cell_type": "markdown",
   "metadata": {},
   "source": [
    "If you have followed the same formatting that I advised, you can see the evolution of the spin lattice in the following animation. If it does not work, try to run it a few times. This specific library tend to not work 100% of the time and I invite you to modify the code to make it work with the data you have."
   ]
  },
  {
   "cell_type": "code",
   "execution_count": null,
   "metadata": {
    "collapsed": true,
    "scrolled": false
   },
   "outputs": [],
   "source": [
    "%matplotlib notebook\n",
    "import numpy as np\n",
    "import matplotlib.pyplot as plt\n",
    "import matplotlib.animation as animation\n",
    "\n",
    "fig = plt.figure(figsize=(10, 10))\n",
    "\n",
    "\n",
    "sign = 1\n",
    "i = len(temperatures) - 1 \n",
    "\n",
    "spin_lattice[\"spin_value\"] = spin_evolution[temperatures[i]]\n",
    "\n",
    "im = plt.imshow(spin_lattice.pivot(index=\"X\", columns=\"Y\", values=\"spin_value\").values, animated=True)\n",
    "plt.xlabel(\"X\", fontsize=20)\n",
    "plt.ylabel(\"Y\", fontsize=20)\n",
    "text = plt.text(0, -3, str(temperatures[i]), fontsize=30)\n",
    "\n",
    "def updatefig(*args):\n",
    "    global spin_evolution, spin_lattice, temperatures, sign, i\n",
    "    \n",
    "    if (i == 0) or (i == len(temperatures) - 1):\n",
    "         sign *= -1  \n",
    "    i += 1 * sign\n",
    "\n",
    "    spin_lattice[\"spin_value\"] = spin_evolution[temperatures[i]]\n",
    "    data = spin_lattice.pivot(index=\"X\", columns=\"Y\", values=\"spin_value\")\n",
    "    im.set_array(data)\n",
    "    text.set_text(\"T = \" + str(temperatures[i]))\n",
    "\n",
    "    return im,\n",
    "\n",
    "ani = animation.FuncAnimation(fig, updatefig, frames=100, interval=50, blit=True)\n"
   ]
  },
  {
   "cell_type": "markdown",
   "metadata": {},
   "source": [
    "### 3.2 The thermodynamic quantities\n",
    "\n",
    "We are going to focus on estimating from the Ising system, the energy per spin, the magnetization per spin, the specific heat and the magnetic susceptibility. The simplest quantity to estimate is the magnetization that is the average value of the spin value over the lattice:\n",
    "\n",
    "\\begin{equation}\n",
    "M = \\overline{s} = \\frac{1}{N^2}\\sum_{i=1}^{N^2}s_i\n",
    "\\end{equation}\n",
    "\n",
    "I am using $\\overline{s}$ to talk about the average over the lattice instead of $\\langle s\\rangle$ that would represent an ensemble average. The energy per spin can be found using\n",
    "\n",
    "\\begin{equation}\n",
    "E = -J\\sum_{(i,j)}s_is_j-h\\sum_i s_i\n",
    "\\end{equation}\n",
    " \n",
    "which per spin becomes for $J=1$ and $h=0$\n",
    "\n",
    "\\begin{equation}\n",
    "\\epsilon = -\\overline{\\frac{s}{2}\\sum_{j}s_j}\n",
    "\\end{equation}\n",
    "\n",
    "the factor 2 comes to avoid to sum twice the same spin pair. The specific heat can be written as a function of the variance of the energy. We call $\\beta=1/k_bT$ (don't forget, we choose $k_b=1$) and $Z$ is the canonical partition function\n",
    "\n",
    "\\begin{eqnarray}\n",
    "C_v &=& \\frac{\\partial \\langle E\\rangle}{\\partial T} \\\\\n",
    "&=& -\\frac{\\beta}{T}\\frac{\\partial \\langle E\\rangle}{\\partial \\beta} \\\\\n",
    "&=& -\\frac{\\beta}{T}\\frac{\\partial^2 \\ln Z}{\\partial \\beta^2} \\\\\n",
    "&=& -\\frac{\\beta}{T}\\frac{\\partial}{\\partial \\beta}\\left(\\frac{1}{Z}\\frac{\\partial Z}{\\partial \\beta}\\right) \\\\\n",
    "&=& -\\frac{\\beta}{T}\\left[\\frac{1}{Z}\\frac{\\partial^2Z}{\\partial\\beta^2}-\\frac{1}{Z^2}\\left(\\frac{\\partial Z}{\\partial\\beta}\\right)^2\\right] \\\\\n",
    "&=& -\\frac{\\beta}{T}\\left[\\langle E^2\\rangle - \\langle E\\rangle^2\\right]\n",
    "\\end{eqnarray}\n",
    "\n",
    "This the ensemble variance of the energy. You can estimate this variance per spin as we did for the average of the energy. In a similar manner, the magnetic susceptibility can be estimated from the magnetization\n",
    "\n",
    "\\begin{eqnarray}\n",
    "\\chi &=& \\frac{\\partial \\langle M\\rangle}{\\partial h} \\\\\n",
    "&=& \\beta\\left[\\langle M^2\\rangle - \\langle M\\rangle^2\\right]\n",
    "\\end{eqnarray}\n",
    "\n",
    "> Parse those equation to write functions that estimate those quantities onto our spin lattice. Use the `apply` function to iterate though the `spin_evolution` data frame columns to compute those quantities for all temperatures. You can use the attribute `name` (`x.name`) to access the name of a column (here it is going to be the temperature) within the `apply` function.  "
   ]
  },
  {
   "cell_type": "code",
   "execution_count": null,
   "metadata": {
    "collapsed": true,
    "scrolled": true
   },
   "outputs": [],
   "source": [
    "## TODO: write a function to compute the average energy of the spin system\n",
    "def compute_energy_mean(x, df):\n",
    "    ## YOUR CODE\n",
    "    raise NotImplementedError\n",
    "\n",
    "## TODO: write a function to compute the magnetization of the spin system\n",
    "def compute_magnetization(x):\n",
    "    ## YOUR CODE\n",
    "    raise NotImplementedError\n",
    "\n",
    "## TODO: write a function to compute the specific heat of the spin system\n",
    "def compute_specific_heat(x, df):\n",
    "    ## YOUR CODE\n",
    "    raise NotImplementedError\n",
    "\n",
    "## TODO: write a function to compute the magnetic susceptibility of the spin system\n",
    "def compute_magnetic_susceptibility(x):\n",
    "    ## YOUR CODE\n",
    "    raise NotImplementedError\n",
    "\n",
    "statistics_df = pd.DataFrame(columns=[\"Energy\", \"Magnetization\", \"Specific_heat\", \"Magnetic_susceptibility\"],\n",
    "                            index=temperatures)\n",
    "\n",
    "statistics_df[\"Energy\"] = spin_evolution.apply(compute_energy_mean, args=(spin_lattice,))\n",
    "statistics_df[\"Magnetization\"] = spin_evolution.apply(compute_magnetization)\n",
    "statistics_df[\"Specific_heat\"] = spin_evolution.apply(compute_specific_heat, args=(spin_lattice,))\n",
    "statistics_df[\"Magnetic_susceptibility\"] = spin_evolution.apply(compute_magnetic_susceptibility)\n",
    "\n",
    "statistics_df"
   ]
  },
  {
   "cell_type": "markdown",
   "metadata": {
    "scrolled": true
   },
   "source": [
    "> Let's now plot the resulting curves as a function of the temperature. You can use this [paper](http://216.92.172.113/courses/phys39/simulations/Student%20Ising%20Swarthmore.pdf) to get a better idea of what you should see. The ising model has a critical temperature (the temperature where the phase transition happens) of $T_c=\\frac{2}{\\log(1+\\sqrt{2})}$. Add using the matplotlib function `axvline`, a vertical red line for $T=T_c$."
   ]
  },
  {
   "cell_type": "code",
   "execution_count": null,
   "metadata": {
    "collapsed": true
   },
   "outputs": [],
   "source": [
    "%matplotlib inline\n",
    "import matplotlib.pyplot as plt\n",
    "Tc = 2./ np.log(1. + np.sqrt(2))\n",
    "\n",
    "## TODO: plot the energy per spin as a function of the temperature\n",
    "## TODO: add a vertical red line at T = Tc"
   ]
  },
  {
   "cell_type": "code",
   "execution_count": null,
   "metadata": {
    "collapsed": true
   },
   "outputs": [],
   "source": [
    "## TODO: plot the magnetization per spin as a function of the temperature\n",
    "## TODO: add a vertical red line at T = Tc"
   ]
  },
  {
   "cell_type": "code",
   "execution_count": null,
   "metadata": {
    "collapsed": true
   },
   "outputs": [],
   "source": [
    "## TODO: plot the Specific heat per spin as a function of the temperature\n",
    "## TODO: add a vertical red line at T = Tc"
   ]
  },
  {
   "cell_type": "code",
   "execution_count": null,
   "metadata": {
    "collapsed": true
   },
   "outputs": [],
   "source": [
    "## TODO: plot the Magnetic susceptibility per spin as a function of the temperature\n",
    "## TODO: add a vertical red line at T = Tc"
   ]
  },
  {
   "cell_type": "markdown",
   "metadata": {},
   "source": [
    "### 3.3 Few comments\n",
    "\n",
    "- The energy should increase $\\propto k_bT$ for large temperature. If you plot $\\epsilon/T$ vs $T$, the curve should become flat and reach a constant.\n",
    "- You see the magnetization becoming null for a specific value of the temperature\n",
    "- You see the Specific heat and the Magnetic susceptibility reaching a sharp peak for a specific value of the temperature\n",
    "- If $N\\rightarrow \\infty$, the peaks should agree with the exact theoretical value of $T_c$.\n",
    "\n",
    "According to the conventional classification of phase transitions, a transition is first-order if the energy is discontinuous with respect to the order parameter (i.e., in this case, the temperature), and second-order if the energy is continuous, but its first derivative with respect to the order parameter is discontinuous, etc. We conclude that the loss of spontaneous magnetization in a ferromagnetic material as the temperature exceeds the critical temperature is a second-order phase transition.\n",
    "\n",
    "\n",
    "### 3.4 The critical exponents\n",
    "\n",
    "The concept of [critical exponents](https://en.wikipedia.org/wiki/Critical_exponent) also characterizes a phase transition. Quite generally, as a critical point (continuous phase transition) is approached from below, the different thermodynamic quantities behave as power-law functions of the temperature.\n",
    "\n",
    "The magnetization\n",
    "\\begin{equation}\n",
    "\\langle M \\rangle \\sim (T_c-T)^\\beta\n",
    "\\end{equation}\n",
    "\n",
    "The Magnetic susceptibility\n",
    "\\begin{equation}\n",
    "\\chi \\sim (T_c-T)^{-\\gamma}\n",
    "\\end{equation}\n",
    "\n",
    "The Specific heat\n",
    "\\begin{equation}\n",
    "C_v \\sim (T_c-T)^{-\\alpha}\n",
    "\\end{equation}\n",
    "\n",
    "The exact theoretical values for those exponents are $\\alpha=0$, $\\beta=1/8$ and $\\gamma = 7/4$ for the 2D Ising model.\n",
    "\n",
    ">Remember that if \n",
    "\\begin{equation}\n",
    "y = ax^b\n",
    "\\end{equation}\n",
    "then\n",
    "\\begin{equation}\n",
    "\\log(y) = \\log(a) + b\\log(x)\n",
    "\\end{equation}\n",
    "Use this fact to perform a linear regression between $\\log(T_c-T)$ and $\\log(M)$ for few points below the critical temperature. You can use the `linregress` function from the `scipy.stats` package. Reproduce this process with $\\chi$ and $C_v$. With this linear regression, you should be able to estimate the critical exponent $\\beta$, $\\alpha$ and $\\gamma$.\n",
    "\n",
    "You could visual the quality of the fit by plotting the results in a log-log plot. I personally obtain something looking like\n",
    "<img src=\"images/magn.png\",width=600>"
   ]
  },
  {
   "cell_type": "code",
   "execution_count": null,
   "metadata": {
    "collapsed": true
   },
   "outputs": [],
   "source": [
    "## TODO: estimate beta by perfoming a linear regression"
   ]
  },
  {
   "cell_type": "code",
   "execution_count": null,
   "metadata": {
    "collapsed": true
   },
   "outputs": [],
   "source": [
    "## TODO: estimate alpha by perfoming a linear regression"
   ]
  },
  {
   "cell_type": "code",
   "execution_count": null,
   "metadata": {
    "collapsed": true
   },
   "outputs": [],
   "source": [
    "## TODO: estimate gamma by perfoming a linear regression"
   ]
  },
  {
   "cell_type": "markdown",
   "metadata": {},
   "source": [
    "### 3.5 The $h\\neq0$ case "
   ]
  },
  {
   "cell_type": "markdown",
   "metadata": {
    "collapsed": true
   },
   "source": [
    ">We are now look at the general case where $h\\neq0$. Create a vector of magnetic field between -2 and 2 with small enough incremental steps. We first going to look at the case $T>T_c$. Choose a temperature $T>T_c$ ($T=3$ for example) and capture the evolution of the spins by iterating the magnetic fields from -2 to 2 and then iterating backward, from 2 to -2. Plot the magnetization for the forward pass on the same chart than the backward pass."
   ]
  },
  {
   "cell_type": "code",
   "execution_count": null,
   "metadata": {
    "collapsed": true,
    "scrolled": false
   },
   "outputs": [],
   "source": [
    "## TODO: Iterate forward and backward the magnetic fields for T > T_c\n",
    "## TODO: plot the resulting evolution of the magnetization"
   ]
  },
  {
   "cell_type": "markdown",
   "metadata": {},
   "source": [
    ">Now repeat the same experiment but choose a temperature $T<T_c$ (1 for example) and plot the resulting magnetization for the backward and forward pass on the same chart."
   ]
  },
  {
   "cell_type": "code",
   "execution_count": null,
   "metadata": {
    "collapsed": true
   },
   "outputs": [],
   "source": [
    "## TODO: Iterate forward and backward the magnetic fields for T < T_c\n",
    "## TODO: plot the resulting evolution of the magnetization"
   ]
  },
  {
   "cell_type": "markdown",
   "metadata": {},
   "source": [
    "You should observe that the magnetization is subject to a Hysteresis Loop for $T<T_c$ characteristic of the ferromagnetic systems."
   ]
  }
 ],
 "metadata": {
  "kernelspec": {
   "display_name": "Python [conda env:python3]",
   "language": "python",
   "name": "conda-env-python3-py"
  },
  "language_info": {
   "codemirror_mode": {
    "name": "ipython",
    "version": 3
   },
   "file_extension": ".py",
   "mimetype": "text/x-python",
   "name": "python",
   "nbconvert_exporter": "python",
   "pygments_lexer": "ipython3",
   "version": "3.6.1"
  }
 },
 "nbformat": 4,
 "nbformat_minor": 2
}
